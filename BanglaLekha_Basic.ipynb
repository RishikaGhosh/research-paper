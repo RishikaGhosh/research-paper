{
  "nbformat": 4,
  "nbformat_minor": 0,
  "metadata": {
    "colab": {
      "provenance": [],
      "machine_shape": "hm",
      "gpuType": "A100",
      "authorship_tag": "ABX9TyPMTlGogLM4xC6P6pDWPu0D",
      "include_colab_link": true
    },
    "kernelspec": {
      "name": "python3",
      "display_name": "Python 3"
    },
    "language_info": {
      "name": "python"
    },
    "accelerator": "TPU",
    "gpuClass": "standard"
  },
  "cells": [
    {
      "cell_type": "markdown",
      "metadata": {
        "id": "view-in-github",
        "colab_type": "text"
      },
      "source": [
        "<a href=\"https://colab.research.google.com/github/RishikaGhosh/research-paper/blob/master/BanglaLekha_Basic.ipynb\" target=\"_parent\"><img src=\"https://colab.research.google.com/assets/colab-badge.svg\" alt=\"Open In Colab\"/></a>"
      ]
    },
    {
      "cell_type": "code",
      "execution_count": 1,
      "metadata": {
        "colab": {
          "base_uri": "https://localhost:8080/"
        },
        "id": "J737rtI3IngH",
        "outputId": "66957755-cafa-48e0-aa96-313e01916c4f"
      },
      "outputs": [
        {
          "output_type": "stream",
          "name": "stdout",
          "text": [
            "Mounted at /content/drive\n"
          ]
        }
      ],
      "source": [
        "from google.colab import drive\n",
        "drive.mount('/content/drive')"
      ]
    },
    {
      "cell_type": "code",
      "source": [
        "!unzip drive/MyDrive/BanglaLekha_Isolated_modified> /dev/null"
      ],
      "metadata": {
        "colab": {
          "base_uri": "https://localhost:8080/"
        },
        "id": "qo9OtqQSIzHT",
        "outputId": "d5926c29-b521-4728-d3c2-056700cf54d7"
      },
      "execution_count": 2,
      "outputs": [
        {
          "output_type": "stream",
          "name": "stdout",
          "text": [
            "warning [drive/MyDrive/BanglaLekha_Isolated_modified.zip]:  76 extra bytes at beginning or within zipfile\n",
            "  (attempting to process anyway)\n",
            "error [drive/MyDrive/BanglaLekha_Isolated_modified.zip]:  reported length of central directory is\n",
            "  -76 bytes too long (Atari STZip zipfile?  J.H.Holm ZIPSPLIT 1.1\n",
            "  zipfile?).  Compensating...\n",
            "error:  expected central file header signature not found (file #99001).\n",
            "  (please check that you have transferred or created the zipfile in the\n",
            "  appropriate BINARY mode and that you have compiled UnZip properly)\n"
          ]
        }
      ]
    },
    {
      "cell_type": "code",
      "source": [
        "pip install tensorflow-addons"
      ],
      "metadata": {
        "colab": {
          "base_uri": "https://localhost:8080/"
        },
        "id": "A0h4_HXnIzBX",
        "outputId": "d67bbc16-f294-4c00-d7d1-8ed78e4daa0a"
      },
      "execution_count": 3,
      "outputs": [
        {
          "output_type": "stream",
          "name": "stdout",
          "text": [
            "Looking in indexes: https://pypi.org/simple, https://us-python.pkg.dev/colab-wheels/public/simple/\n",
            "Collecting tensorflow-addons\n",
            "  Downloading tensorflow_addons-0.20.0-cp310-cp310-manylinux_2_17_x86_64.manylinux2014_x86_64.whl (591 kB)\n",
            "\u001b[2K     \u001b[90m━━━━━━━━━━━━━━━━━━━━━━━━━━━━━━━━━━━━━━\u001b[0m \u001b[32m591.0/591.0 kB\u001b[0m \u001b[31m41.6 MB/s\u001b[0m eta \u001b[36m0:00:00\u001b[0m\n",
            "\u001b[?25hRequirement already satisfied: packaging in /usr/local/lib/python3.10/dist-packages (from tensorflow-addons) (23.1)\n",
            "Collecting typeguard<3.0.0,>=2.7 (from tensorflow-addons)\n",
            "  Downloading typeguard-2.13.3-py3-none-any.whl (17 kB)\n",
            "Installing collected packages: typeguard, tensorflow-addons\n",
            "Successfully installed tensorflow-addons-0.20.0 typeguard-2.13.3\n"
          ]
        }
      ]
    },
    {
      "cell_type": "code",
      "source": [
        "!pip install tensorflow-addons --upgrade"
      ],
      "metadata": {
        "colab": {
          "base_uri": "https://localhost:8080/"
        },
        "id": "iPGy79klIy4l",
        "outputId": "4cd880eb-cf10-4749-e26d-9be49a69c6ae"
      },
      "execution_count": 4,
      "outputs": [
        {
          "output_type": "stream",
          "name": "stdout",
          "text": [
            "Looking in indexes: https://pypi.org/simple, https://us-python.pkg.dev/colab-wheels/public/simple/\n",
            "Requirement already satisfied: tensorflow-addons in /usr/local/lib/python3.10/dist-packages (0.20.0)\n",
            "Requirement already satisfied: packaging in /usr/local/lib/python3.10/dist-packages (from tensorflow-addons) (23.1)\n",
            "Requirement already satisfied: typeguard<3.0.0,>=2.7 in /usr/local/lib/python3.10/dist-packages (from tensorflow-addons) (2.13.3)\n"
          ]
        }
      ]
    },
    {
      "cell_type": "code",
      "source": [
        "from keras.models import Sequential\n",
        "from keras.layers import Conv2D, MaxPooling2D, Flatten, Dense, Dropout\n",
        "import tensorflow as tf\n",
        "from tensorflow.keras.callbacks import EarlyStopping\n",
        "from tensorflow.keras.optimizers import Adam\n",
        "from sklearn.pipeline import Pipeline\n",
        "from sklearn.svm import SVC\n",
        "from sklearn.decomposition import PCA\n",
        "import os\n",
        "import cv2\n",
        "from PIL import ImageFile,Image\n",
        "import numpy as np\n",
        "from tensorflow.keras.models import Sequential\n",
        "from tensorflow.keras.layers import Dense, BatchNormalization, Conv2D, MaxPooling2D, Reshape, LSTM\n",
        "from tensorflow.keras.callbacks import ReduceLROnPlateau"
      ],
      "metadata": {
        "id": "QVPymzYdKN_W"
      },
      "execution_count": 5,
      "outputs": []
    },
    {
      "cell_type": "code",
      "source": [
        "pip install split-folders"
      ],
      "metadata": {
        "colab": {
          "base_uri": "https://localhost:8080/"
        },
        "id": "O2SxctbBKO6X",
        "outputId": "75d77d90-70ec-4147-d48a-fdd9e48f46ee"
      },
      "execution_count": 6,
      "outputs": [
        {
          "output_type": "stream",
          "name": "stdout",
          "text": [
            "Looking in indexes: https://pypi.org/simple, https://us-python.pkg.dev/colab-wheels/public/simple/\n",
            "Collecting split-folders\n",
            "  Downloading split_folders-0.5.1-py3-none-any.whl (8.4 kB)\n",
            "Installing collected packages: split-folders\n",
            "Successfully installed split-folders-0.5.1\n"
          ]
        }
      ]
    },
    {
      "cell_type": "code",
      "source": [
        "data_set = \"BanglaLekha_Isolated_modified/\"\n",
        "dimensions = (28, 28)"
      ],
      "metadata": {
        "id": "-JykPaEpKO35"
      },
      "execution_count": 7,
      "outputs": []
    },
    {
      "cell_type": "code",
      "source": [
        "def process_images(folder):\n",
        "\n",
        "    classes = [os.path.join(folder, d) for d in sorted(os.listdir(folder))]  # get list of all sub-folders in folder\n",
        "    img_cnt = 0\n",
        "    i=0\n",
        "    for class_x in classes:\n",
        "        i=i+1\n",
        "        if os.path.isdir(class_x):\n",
        "\n",
        "            # get paths to all the images in this folder\n",
        "            images = [os.path.join(class_x, i) for i in sorted(os.listdir(class_x)) if i != '.DS_Store']\n",
        "            print(len(images))\n",
        "            if folder == \"Dataset/Test\" and i==1:\n",
        "                images = images[:-1]\n",
        "\n",
        "            for image in images:\n",
        "\n",
        "                img_cnt = img_cnt + 1\n",
        "\n",
        "                if(img_cnt % 1000 == 0):                # show progress\n",
        "                    print(\"Processed %s images\" % str(img_cnt))\n",
        "\n",
        "                im = Image.open(image)\n",
        "                print(image)\n",
        "                im = im.resize(dimensions)   # resize image according to dimensions set\n",
        "\n",
        "                image_array = np.array(im)\n",
        "                otsu_threshold, image_result = cv2.threshold(image_array, 0, 255, cv2.THRESH_BINARY_INV+cv2.THRESH_OTSU)\n",
        "                im = Image.fromarray(image_result)\n",
        "\n",
        "                im.save(image)\n",
        "    print(\"Finished processing images, images found = \")\n",
        "    print(img_cnt)\n",
        "process_images(data_set)"
      ],
      "metadata": {
        "id": "5X0VPhQgKO1e"
      },
      "execution_count": null,
      "outputs": []
    },
    {
      "cell_type": "code",
      "source": [
        "import splitfolders"
      ],
      "metadata": {
        "id": "5kx2yeAJKOu8"
      },
      "execution_count": 10,
      "outputs": []
    },
    {
      "cell_type": "code",
      "source": [
        "splitfolders.ratio(\"/content/BanglaLekha_Isolated_modified/\", output=\"BanglaLekha_dataset\",\n",
        "    seed=1337, ratio=(.7,.1,.2), group_prefix=None, move=False)"
      ],
      "metadata": {
        "colab": {
          "base_uri": "https://localhost:8080/"
        },
        "id": "ezZN0KDGKOj1",
        "outputId": "ad53d276-c937-41d2-d220-d38329f44630"
      },
      "execution_count": 11,
      "outputs": [
        {
          "output_type": "stream",
          "name": "stderr",
          "text": [
            "Copying files: 98950 files [00:10, 9047.35 files/s]\n"
          ]
        }
      ]
    },
    {
      "cell_type": "code",
      "source": [
        "classifier = Sequential()\n",
        "\n",
        "classifier.add(Conv2D(filters = 32, kernel_size = (3, 3), strides = (1,1), padding = \"same\", input_shape = (28, 28, 1)))\n",
        "classifier.add(tf.keras.layers.LeakyReLU(alpha=0.1))\n",
        "classifier.add(BatchNormalization())\n",
        "classifier.add(MaxPooling2D(pool_size = (2, 2), padding = \"valid\"))\n",
        "classifier.add(Dropout(.2))\n",
        "\n",
        "classifier.add(Conv2D(filters = 64, kernel_size = (3, 3), strides = (1,1), padding = \"same\"))\n",
        "classifier.add(tf.keras.layers.LeakyReLU(alpha=0.1))\n",
        "classifier.add(BatchNormalization())\n",
        "classifier.add(MaxPooling2D(pool_size = (2, 2), padding = \"valid\"))\n",
        "classifier.add(Dropout(.2))\n",
        "\n",
        "classifier.add(Conv2D(filters = 128, kernel_size = (3, 3), strides = (1,1), padding = \"same\"))\n",
        "classifier.add(tf.keras.layers.LeakyReLU(alpha=0.1))\n",
        "classifier.add(BatchNormalization())\n",
        "classifier.add(MaxPooling2D(pool_size = (2, 2), padding = \"valid\"))\n",
        "classifier.add(Dropout(.2))\n",
        "\n",
        "classifier.add(Reshape((3,3*128),input_shape=(3,3,128)))\n",
        "classifier.add(LSTM(128, return_sequences=True))\n",
        "\n",
        "classifier.add(Flatten())\n",
        "\n",
        "classifier.add(Dense(units = 128))\n",
        "classifier.add(tf.keras.layers.LeakyReLU(alpha=0.1))\n",
        "classifier.add(Dropout(.2))\n",
        "\n",
        "classifier.add(Dense(units = 64))\n",
        "classifier.add(tf.keras.layers.LeakyReLU(alpha=0.1))\n",
        "classifier.add(Dropout(.2))\n",
        "\n",
        "classifier.add(Dense(units = 50, activation = 'softmax'))\n",
        "\n",
        "opt=tf.keras.optimizers.Adadelta(learning_rate=0.1, rho=0.95)              \n",
        "classifier.compile(optimizer = opt, loss = 'categorical_crossentropy', metrics = ['accuracy'])"
      ],
      "metadata": {
        "id": "ioSe3EPmK76u"
      },
      "execution_count": 12,
      "outputs": []
    },
    {
      "cell_type": "code",
      "source": [
        "classifier.summary()"
      ],
      "metadata": {
        "colab": {
          "base_uri": "https://localhost:8080/"
        },
        "id": "8a7XvgPZK7vG",
        "outputId": "611f3266-1acd-4273-e5f1-f0f07ba19ceb"
      },
      "execution_count": 13,
      "outputs": [
        {
          "output_type": "stream",
          "name": "stdout",
          "text": [
            "Model: \"sequential\"\n",
            "_________________________________________________________________\n",
            " Layer (type)                Output Shape              Param #   \n",
            "=================================================================\n",
            " conv2d (Conv2D)             (None, 28, 28, 32)        320       \n",
            "                                                                 \n",
            " leaky_re_lu (LeakyReLU)     (None, 28, 28, 32)        0         \n",
            "                                                                 \n",
            " batch_normalization (BatchN  (None, 28, 28, 32)       128       \n",
            " ormalization)                                                   \n",
            "                                                                 \n",
            " max_pooling2d (MaxPooling2D  (None, 14, 14, 32)       0         \n",
            " )                                                               \n",
            "                                                                 \n",
            " dropout (Dropout)           (None, 14, 14, 32)        0         \n",
            "                                                                 \n",
            " conv2d_1 (Conv2D)           (None, 14, 14, 64)        18496     \n",
            "                                                                 \n",
            " leaky_re_lu_1 (LeakyReLU)   (None, 14, 14, 64)        0         \n",
            "                                                                 \n",
            " batch_normalization_1 (Batc  (None, 14, 14, 64)       256       \n",
            " hNormalization)                                                 \n",
            "                                                                 \n",
            " max_pooling2d_1 (MaxPooling  (None, 7, 7, 64)         0         \n",
            " 2D)                                                             \n",
            "                                                                 \n",
            " dropout_1 (Dropout)         (None, 7, 7, 64)          0         \n",
            "                                                                 \n",
            " conv2d_2 (Conv2D)           (None, 7, 7, 128)         73856     \n",
            "                                                                 \n",
            " leaky_re_lu_2 (LeakyReLU)   (None, 7, 7, 128)         0         \n",
            "                                                                 \n",
            " batch_normalization_2 (Batc  (None, 7, 7, 128)        512       \n",
            " hNormalization)                                                 \n",
            "                                                                 \n",
            " max_pooling2d_2 (MaxPooling  (None, 3, 3, 128)        0         \n",
            " 2D)                                                             \n",
            "                                                                 \n",
            " dropout_2 (Dropout)         (None, 3, 3, 128)         0         \n",
            "                                                                 \n",
            " reshape (Reshape)           (None, 3, 384)            0         \n",
            "                                                                 \n",
            " lstm (LSTM)                 (None, 3, 128)            262656    \n",
            "                                                                 \n",
            " flatten (Flatten)           (None, 384)               0         \n",
            "                                                                 \n",
            " dense (Dense)               (None, 128)               49280     \n",
            "                                                                 \n",
            " leaky_re_lu_3 (LeakyReLU)   (None, 128)               0         \n",
            "                                                                 \n",
            " dropout_3 (Dropout)         (None, 128)               0         \n",
            "                                                                 \n",
            " dense_1 (Dense)             (None, 64)                8256      \n",
            "                                                                 \n",
            " leaky_re_lu_4 (LeakyReLU)   (None, 64)                0         \n",
            "                                                                 \n",
            " dropout_4 (Dropout)         (None, 64)                0         \n",
            "                                                                 \n",
            " dense_2 (Dense)             (None, 50)                3250      \n",
            "                                                                 \n",
            "=================================================================\n",
            "Total params: 417,010\n",
            "Trainable params: 416,562\n",
            "Non-trainable params: 448\n",
            "_________________________________________________________________\n"
          ]
        }
      ]
    },
    {
      "cell_type": "code",
      "source": [
        "train_folder = \"/content/BanglaLekha_dataset/train\"\n",
        "val_folder = \"/content/BanglaLekha_dataset/val\"\n",
        "test_folder = \"/content/BanglaLekha_dataset/test\""
      ],
      "metadata": {
        "id": "1BATTo1iLsoZ"
      },
      "execution_count": 14,
      "outputs": []
    },
    {
      "cell_type": "code",
      "source": [
        "from keras.preprocessing.image import ImageDataGenerator\n",
        "from PIL import Image"
      ],
      "metadata": {
        "id": "e9QM6qx_K7hc"
      },
      "execution_count": 15,
      "outputs": []
    },
    {
      "cell_type": "code",
      "source": [
        "Image.LOAD_TRUNCATED_IMAGES = True\n",
        "\n",
        "\n",
        "train_datagen = ImageDataGenerator(shear_range = .2, rotation_range = 25)\n",
        "val_datagen = ImageDataGenerator()\n",
        "test_datagen = ImageDataGenerator()\n",
        "\n",
        "train_set = train_datagen.flow_from_directory(train_folder, target_size = (28, 28), \n",
        "                                                 batch_size = 32, class_mode = 'categorical',color_mode=\"grayscale\")\n",
        "val_set = val_datagen.flow_from_directory(val_folder, target_size = (28, 28), \n",
        "                                                 batch_size = 32, class_mode = 'categorical',color_mode=\"grayscale\")\n",
        "test_set = test_datagen.flow_from_directory(test_folder, target_size = (28, 28), \n",
        "                                                 batch_size = 32, class_mode = 'categorical',color_mode=\"grayscale\")"
      ],
      "metadata": {
        "colab": {
          "base_uri": "https://localhost:8080/"
        },
        "id": "CEDqfLvTN7Sz",
        "outputId": "8a5c3c65-2b3b-429e-db2f-5635e715275b"
      },
      "execution_count": 16,
      "outputs": [
        {
          "output_type": "stream",
          "name": "stdout",
          "text": [
            "Found 69244 images belonging to 50 classes.\n",
            "Found 9877 images belonging to 50 classes.\n",
            "Found 19829 images belonging to 50 classes.\n"
          ]
        }
      ]
    },
    {
      "cell_type": "code",
      "source": [
        "history=classifier.fit(train_set, steps_per_epoch = len(train_set), epochs = 200,\n",
        "                        validation_data = val_set, validation_steps = len(val_set))\n",
        "classifier.save_weights('train_weights1.h5')"
      ],
      "metadata": {
        "colab": {
          "base_uri": "https://localhost:8080/"
        },
        "id": "OjEdiVvkN7K-",
        "outputId": "9421614c-6e7c-41e8-da73-0dda17c5c176"
      },
      "execution_count": 17,
      "outputs": [
        {
          "output_type": "stream",
          "name": "stdout",
          "text": [
            "Epoch 1/200\n",
            "2164/2164 [==============================] - 55s 19ms/step - loss: 3.1990 - accuracy: 0.1586 - val_loss: 1.9817 - val_accuracy: 0.4591\n",
            "Epoch 2/200\n",
            "2164/2164 [==============================] - 39s 18ms/step - loss: 2.0808 - accuracy: 0.3924 - val_loss: 1.2383 - val_accuracy: 0.6551\n",
            "Epoch 3/200\n",
            "2164/2164 [==============================] - 40s 18ms/step - loss: 1.5657 - accuracy: 0.5286 - val_loss: 0.9379 - val_accuracy: 0.7336\n",
            "Epoch 4/200\n",
            "2164/2164 [==============================] - 40s 18ms/step - loss: 1.2871 - accuracy: 0.6095 - val_loss: 0.7772 - val_accuracy: 0.7762\n",
            "Epoch 5/200\n",
            "2164/2164 [==============================] - 39s 18ms/step - loss: 1.1094 - accuracy: 0.6659 - val_loss: 0.6647 - val_accuracy: 0.8109\n",
            "Epoch 6/200\n",
            "2164/2164 [==============================] - 39s 18ms/step - loss: 0.9888 - accuracy: 0.7048 - val_loss: 0.6153 - val_accuracy: 0.8210\n",
            "Epoch 7/200\n",
            "2164/2164 [==============================] - 39s 18ms/step - loss: 0.8947 - accuracy: 0.7337 - val_loss: 0.5644 - val_accuracy: 0.8368\n",
            "Epoch 8/200\n",
            "2164/2164 [==============================] - 39s 18ms/step - loss: 0.8297 - accuracy: 0.7557 - val_loss: 0.5352 - val_accuracy: 0.8459\n",
            "Epoch 9/200\n",
            "2164/2164 [==============================] - 39s 18ms/step - loss: 0.7729 - accuracy: 0.7723 - val_loss: 0.5170 - val_accuracy: 0.8514\n",
            "Epoch 10/200\n",
            "2164/2164 [==============================] - 39s 18ms/step - loss: 0.7263 - accuracy: 0.7872 - val_loss: 0.5031 - val_accuracy: 0.8530\n",
            "Epoch 11/200\n",
            "2164/2164 [==============================] - 39s 18ms/step - loss: 0.6944 - accuracy: 0.7960 - val_loss: 0.4780 - val_accuracy: 0.8616\n",
            "Epoch 12/200\n",
            "2164/2164 [==============================] - 39s 18ms/step - loss: 0.6608 - accuracy: 0.8066 - val_loss: 0.4655 - val_accuracy: 0.8660\n",
            "Epoch 13/200\n",
            "2164/2164 [==============================] - 39s 18ms/step - loss: 0.6306 - accuracy: 0.8145 - val_loss: 0.4370 - val_accuracy: 0.8757\n",
            "Epoch 14/200\n",
            "2164/2164 [==============================] - 39s 18ms/step - loss: 0.6091 - accuracy: 0.8227 - val_loss: 0.4353 - val_accuracy: 0.8753\n",
            "Epoch 15/200\n",
            "2164/2164 [==============================] - 39s 18ms/step - loss: 0.5935 - accuracy: 0.8281 - val_loss: 0.4195 - val_accuracy: 0.8813\n",
            "Epoch 16/200\n",
            "2164/2164 [==============================] - 39s 18ms/step - loss: 0.5793 - accuracy: 0.8317 - val_loss: 0.4042 - val_accuracy: 0.8863\n",
            "Epoch 17/200\n",
            "2164/2164 [==============================] - 39s 18ms/step - loss: 0.5576 - accuracy: 0.8387 - val_loss: 0.4059 - val_accuracy: 0.8849\n",
            "Epoch 18/200\n",
            "2164/2164 [==============================] - 39s 18ms/step - loss: 0.5418 - accuracy: 0.8442 - val_loss: 0.3914 - val_accuracy: 0.8887\n",
            "Epoch 19/200\n",
            "2164/2164 [==============================] - 39s 18ms/step - loss: 0.5239 - accuracy: 0.8482 - val_loss: 0.3991 - val_accuracy: 0.8888\n",
            "Epoch 20/200\n",
            "2164/2164 [==============================] - 39s 18ms/step - loss: 0.5194 - accuracy: 0.8502 - val_loss: 0.3734 - val_accuracy: 0.8951\n",
            "Epoch 21/200\n",
            "2164/2164 [==============================] - 40s 18ms/step - loss: 0.5037 - accuracy: 0.8543 - val_loss: 0.3721 - val_accuracy: 0.8960\n",
            "Epoch 22/200\n",
            "2164/2164 [==============================] - 40s 18ms/step - loss: 0.4970 - accuracy: 0.8561 - val_loss: 0.3695 - val_accuracy: 0.8958\n",
            "Epoch 23/200\n",
            "2164/2164 [==============================] - 40s 18ms/step - loss: 0.4849 - accuracy: 0.8595 - val_loss: 0.3716 - val_accuracy: 0.8952\n",
            "Epoch 24/200\n",
            "2164/2164 [==============================] - 40s 18ms/step - loss: 0.4801 - accuracy: 0.8624 - val_loss: 0.3659 - val_accuracy: 0.8981\n",
            "Epoch 25/200\n",
            "2164/2164 [==============================] - 39s 18ms/step - loss: 0.4683 - accuracy: 0.8656 - val_loss: 0.3587 - val_accuracy: 0.8998\n",
            "Epoch 26/200\n",
            "2164/2164 [==============================] - 39s 18ms/step - loss: 0.4632 - accuracy: 0.8675 - val_loss: 0.3563 - val_accuracy: 0.9001\n",
            "Epoch 27/200\n",
            "2164/2164 [==============================] - 40s 18ms/step - loss: 0.4578 - accuracy: 0.8681 - val_loss: 0.3553 - val_accuracy: 0.9026\n",
            "Epoch 28/200\n",
            "2164/2164 [==============================] - 39s 18ms/step - loss: 0.4490 - accuracy: 0.8707 - val_loss: 0.3587 - val_accuracy: 0.9009\n",
            "Epoch 29/200\n",
            "2164/2164 [==============================] - 39s 18ms/step - loss: 0.4436 - accuracy: 0.8716 - val_loss: 0.3531 - val_accuracy: 0.9021\n",
            "Epoch 30/200\n",
            "2164/2164 [==============================] - 39s 18ms/step - loss: 0.4376 - accuracy: 0.8743 - val_loss: 0.3520 - val_accuracy: 0.9038\n",
            "Epoch 31/200\n",
            "2164/2164 [==============================] - 40s 18ms/step - loss: 0.4353 - accuracy: 0.8753 - val_loss: 0.3523 - val_accuracy: 0.9037\n",
            "Epoch 32/200\n",
            "2164/2164 [==============================] - 40s 18ms/step - loss: 0.4234 - accuracy: 0.8779 - val_loss: 0.3457 - val_accuracy: 0.9049\n",
            "Epoch 33/200\n",
            "2164/2164 [==============================] - 40s 19ms/step - loss: 0.4199 - accuracy: 0.8807 - val_loss: 0.3493 - val_accuracy: 0.9024\n",
            "Epoch 34/200\n",
            "2164/2164 [==============================] - 40s 18ms/step - loss: 0.4133 - accuracy: 0.8813 - val_loss: 0.3475 - val_accuracy: 0.9036\n",
            "Epoch 35/200\n",
            "2164/2164 [==============================] - 40s 18ms/step - loss: 0.4096 - accuracy: 0.8826 - val_loss: 0.3450 - val_accuracy: 0.9052\n",
            "Epoch 36/200\n",
            "2164/2164 [==============================] - 39s 18ms/step - loss: 0.4068 - accuracy: 0.8820 - val_loss: 0.3463 - val_accuracy: 0.9064\n",
            "Epoch 37/200\n",
            "2164/2164 [==============================] - 39s 18ms/step - loss: 0.4017 - accuracy: 0.8854 - val_loss: 0.3435 - val_accuracy: 0.9082\n",
            "Epoch 38/200\n",
            "2164/2164 [==============================] - 39s 18ms/step - loss: 0.4010 - accuracy: 0.8858 - val_loss: 0.3433 - val_accuracy: 0.9094\n",
            "Epoch 39/200\n",
            "2164/2164 [==============================] - 40s 18ms/step - loss: 0.3902 - accuracy: 0.8873 - val_loss: 0.3452 - val_accuracy: 0.9074\n",
            "Epoch 40/200\n",
            "2164/2164 [==============================] - 40s 18ms/step - loss: 0.3917 - accuracy: 0.8891 - val_loss: 0.3441 - val_accuracy: 0.9050\n",
            "Epoch 41/200\n",
            "2164/2164 [==============================] - 40s 18ms/step - loss: 0.3875 - accuracy: 0.8889 - val_loss: 0.3478 - val_accuracy: 0.9062\n",
            "Epoch 42/200\n",
            "2164/2164 [==============================] - 40s 18ms/step - loss: 0.3812 - accuracy: 0.8904 - val_loss: 0.3398 - val_accuracy: 0.9098\n",
            "Epoch 43/200\n",
            "2164/2164 [==============================] - 40s 19ms/step - loss: 0.3729 - accuracy: 0.8929 - val_loss: 0.3393 - val_accuracy: 0.9108\n",
            "Epoch 44/200\n",
            "2164/2164 [==============================] - 40s 18ms/step - loss: 0.3748 - accuracy: 0.8932 - val_loss: 0.3405 - val_accuracy: 0.9108\n",
            "Epoch 45/200\n",
            "2164/2164 [==============================] - 40s 18ms/step - loss: 0.3688 - accuracy: 0.8943 - val_loss: 0.3337 - val_accuracy: 0.9128\n",
            "Epoch 46/200\n",
            "2164/2164 [==============================] - 40s 18ms/step - loss: 0.3705 - accuracy: 0.8945 - val_loss: 0.3350 - val_accuracy: 0.9101\n",
            "Epoch 47/200\n",
            "2164/2164 [==============================] - 39s 18ms/step - loss: 0.3684 - accuracy: 0.8951 - val_loss: 0.3317 - val_accuracy: 0.9113\n",
            "Epoch 48/200\n",
            "2164/2164 [==============================] - 39s 18ms/step - loss: 0.3630 - accuracy: 0.8966 - val_loss: 0.3352 - val_accuracy: 0.9131\n",
            "Epoch 49/200\n",
            "2164/2164 [==============================] - 39s 18ms/step - loss: 0.3613 - accuracy: 0.8970 - val_loss: 0.3365 - val_accuracy: 0.9127\n",
            "Epoch 50/200\n",
            "2164/2164 [==============================] - 39s 18ms/step - loss: 0.3614 - accuracy: 0.8962 - val_loss: 0.3386 - val_accuracy: 0.9110\n",
            "Epoch 51/200\n",
            "2164/2164 [==============================] - 39s 18ms/step - loss: 0.3595 - accuracy: 0.8977 - val_loss: 0.3382 - val_accuracy: 0.9126\n",
            "Epoch 52/200\n",
            "2164/2164 [==============================] - 39s 18ms/step - loss: 0.3518 - accuracy: 0.9004 - val_loss: 0.3310 - val_accuracy: 0.9131\n",
            "Epoch 53/200\n",
            "2164/2164 [==============================] - 39s 18ms/step - loss: 0.3476 - accuracy: 0.9009 - val_loss: 0.3325 - val_accuracy: 0.9126\n",
            "Epoch 54/200\n",
            "2164/2164 [==============================] - 39s 18ms/step - loss: 0.3489 - accuracy: 0.9011 - val_loss: 0.3297 - val_accuracy: 0.9135\n",
            "Epoch 55/200\n",
            "2164/2164 [==============================] - 39s 18ms/step - loss: 0.3470 - accuracy: 0.9011 - val_loss: 0.3341 - val_accuracy: 0.9141\n",
            "Epoch 56/200\n",
            "2164/2164 [==============================] - 39s 18ms/step - loss: 0.3470 - accuracy: 0.9008 - val_loss: 0.3284 - val_accuracy: 0.9150\n",
            "Epoch 57/200\n",
            "2164/2164 [==============================] - 39s 18ms/step - loss: 0.3447 - accuracy: 0.9005 - val_loss: 0.3333 - val_accuracy: 0.9134\n",
            "Epoch 58/200\n",
            "2164/2164 [==============================] - 39s 18ms/step - loss: 0.3403 - accuracy: 0.9020 - val_loss: 0.3298 - val_accuracy: 0.9154\n",
            "Epoch 59/200\n",
            "2164/2164 [==============================] - 40s 18ms/step - loss: 0.3368 - accuracy: 0.9041 - val_loss: 0.3370 - val_accuracy: 0.9152\n",
            "Epoch 60/200\n",
            "2164/2164 [==============================] - 40s 18ms/step - loss: 0.3343 - accuracy: 0.9046 - val_loss: 0.3318 - val_accuracy: 0.9147\n",
            "Epoch 61/200\n",
            "2164/2164 [==============================] - 40s 18ms/step - loss: 0.3307 - accuracy: 0.9044 - val_loss: 0.3364 - val_accuracy: 0.9145\n",
            "Epoch 62/200\n",
            "2164/2164 [==============================] - 40s 18ms/step - loss: 0.3323 - accuracy: 0.9050 - val_loss: 0.3322 - val_accuracy: 0.9162\n",
            "Epoch 63/200\n",
            "2164/2164 [==============================] - 40s 19ms/step - loss: 0.3286 - accuracy: 0.9056 - val_loss: 0.3371 - val_accuracy: 0.9155\n",
            "Epoch 64/200\n",
            "2164/2164 [==============================] - 40s 19ms/step - loss: 0.3274 - accuracy: 0.9068 - val_loss: 0.3313 - val_accuracy: 0.9155\n",
            "Epoch 65/200\n",
            "2164/2164 [==============================] - 40s 18ms/step - loss: 0.3276 - accuracy: 0.9063 - val_loss: 0.3396 - val_accuracy: 0.9142\n",
            "Epoch 66/200\n",
            "2164/2164 [==============================] - 40s 18ms/step - loss: 0.3295 - accuracy: 0.9056 - val_loss: 0.3385 - val_accuracy: 0.9169\n",
            "Epoch 67/200\n",
            "2164/2164 [==============================] - 40s 18ms/step - loss: 0.3228 - accuracy: 0.9075 - val_loss: 0.3424 - val_accuracy: 0.9151\n",
            "Epoch 68/200\n",
            "2164/2164 [==============================] - 40s 18ms/step - loss: 0.3220 - accuracy: 0.9074 - val_loss: 0.3335 - val_accuracy: 0.9165\n",
            "Epoch 69/200\n",
            "2164/2164 [==============================] - 40s 18ms/step - loss: 0.3194 - accuracy: 0.9076 - val_loss: 0.3344 - val_accuracy: 0.9149\n",
            "Epoch 70/200\n",
            "2164/2164 [==============================] - 40s 19ms/step - loss: 0.3158 - accuracy: 0.9100 - val_loss: 0.3385 - val_accuracy: 0.9166\n",
            "Epoch 71/200\n",
            "2164/2164 [==============================] - 40s 18ms/step - loss: 0.3162 - accuracy: 0.9099 - val_loss: 0.3388 - val_accuracy: 0.9173\n",
            "Epoch 72/200\n",
            "2164/2164 [==============================] - 40s 19ms/step - loss: 0.3118 - accuracy: 0.9104 - val_loss: 0.3348 - val_accuracy: 0.9159\n",
            "Epoch 73/200\n",
            "2164/2164 [==============================] - 40s 18ms/step - loss: 0.3119 - accuracy: 0.9112 - val_loss: 0.3398 - val_accuracy: 0.9155\n",
            "Epoch 74/200\n",
            "2164/2164 [==============================] - 40s 19ms/step - loss: 0.3111 - accuracy: 0.9107 - val_loss: 0.3320 - val_accuracy: 0.9162\n",
            "Epoch 75/200\n",
            "2164/2164 [==============================] - 40s 18ms/step - loss: 0.3111 - accuracy: 0.9108 - val_loss: 0.3341 - val_accuracy: 0.9166\n",
            "Epoch 76/200\n",
            "2164/2164 [==============================] - 40s 18ms/step - loss: 0.3061 - accuracy: 0.9132 - val_loss: 0.3388 - val_accuracy: 0.9177\n",
            "Epoch 77/200\n",
            "2164/2164 [==============================] - 40s 19ms/step - loss: 0.3127 - accuracy: 0.9115 - val_loss: 0.3415 - val_accuracy: 0.9158\n",
            "Epoch 78/200\n",
            "2164/2164 [==============================] - 40s 18ms/step - loss: 0.3047 - accuracy: 0.9123 - val_loss: 0.3405 - val_accuracy: 0.9152\n",
            "Epoch 79/200\n",
            "2164/2164 [==============================] - 40s 19ms/step - loss: 0.3077 - accuracy: 0.9129 - val_loss: 0.3444 - val_accuracy: 0.9152\n",
            "Epoch 80/200\n",
            "2164/2164 [==============================] - 40s 19ms/step - loss: 0.3041 - accuracy: 0.9122 - val_loss: 0.3434 - val_accuracy: 0.9178\n",
            "Epoch 81/200\n",
            "2164/2164 [==============================] - 40s 18ms/step - loss: 0.3066 - accuracy: 0.9128 - val_loss: 0.3395 - val_accuracy: 0.9174\n",
            "Epoch 82/200\n",
            "2164/2164 [==============================] - 40s 18ms/step - loss: 0.2977 - accuracy: 0.9142 - val_loss: 0.3473 - val_accuracy: 0.9167\n",
            "Epoch 83/200\n",
            "2164/2164 [==============================] - 40s 19ms/step - loss: 0.3033 - accuracy: 0.9139 - val_loss: 0.3373 - val_accuracy: 0.9176\n",
            "Epoch 84/200\n",
            "2164/2164 [==============================] - 40s 19ms/step - loss: 0.3011 - accuracy: 0.9132 - val_loss: 0.3364 - val_accuracy: 0.9185\n",
            "Epoch 85/200\n",
            "2164/2164 [==============================] - 40s 19ms/step - loss: 0.3000 - accuracy: 0.9146 - val_loss: 0.3371 - val_accuracy: 0.9174\n",
            "Epoch 86/200\n",
            "2164/2164 [==============================] - 40s 19ms/step - loss: 0.2988 - accuracy: 0.9149 - val_loss: 0.3421 - val_accuracy: 0.9183\n",
            "Epoch 87/200\n",
            "2164/2164 [==============================] - 40s 18ms/step - loss: 0.2969 - accuracy: 0.9152 - val_loss: 0.3442 - val_accuracy: 0.9182\n",
            "Epoch 88/200\n",
            "2164/2164 [==============================] - 40s 18ms/step - loss: 0.2941 - accuracy: 0.9156 - val_loss: 0.3426 - val_accuracy: 0.9171\n",
            "Epoch 89/200\n",
            "2164/2164 [==============================] - 40s 19ms/step - loss: 0.2970 - accuracy: 0.9152 - val_loss: 0.3405 - val_accuracy: 0.9184\n",
            "Epoch 90/200\n",
            "2164/2164 [==============================] - 40s 18ms/step - loss: 0.2934 - accuracy: 0.9165 - val_loss: 0.3382 - val_accuracy: 0.9195\n",
            "Epoch 91/200\n",
            "2164/2164 [==============================] - 40s 18ms/step - loss: 0.2894 - accuracy: 0.9163 - val_loss: 0.3439 - val_accuracy: 0.9194\n",
            "Epoch 92/200\n",
            "2164/2164 [==============================] - 40s 18ms/step - loss: 0.2938 - accuracy: 0.9156 - val_loss: 0.3408 - val_accuracy: 0.9201\n",
            "Epoch 93/200\n",
            "2164/2164 [==============================] - 40s 18ms/step - loss: 0.2913 - accuracy: 0.9163 - val_loss: 0.3474 - val_accuracy: 0.9182\n",
            "Epoch 94/200\n",
            "2164/2164 [==============================] - 40s 19ms/step - loss: 0.2869 - accuracy: 0.9182 - val_loss: 0.3562 - val_accuracy: 0.9179\n",
            "Epoch 95/200\n",
            "2164/2164 [==============================] - 40s 18ms/step - loss: 0.2899 - accuracy: 0.9169 - val_loss: 0.3469 - val_accuracy: 0.9187\n",
            "Epoch 96/200\n",
            "2164/2164 [==============================] - 40s 18ms/step - loss: 0.2861 - accuracy: 0.9178 - val_loss: 0.3519 - val_accuracy: 0.9174\n",
            "Epoch 97/200\n",
            "2164/2164 [==============================] - 40s 18ms/step - loss: 0.2828 - accuracy: 0.9196 - val_loss: 0.3507 - val_accuracy: 0.9188\n",
            "Epoch 98/200\n",
            "2164/2164 [==============================] - 40s 18ms/step - loss: 0.2841 - accuracy: 0.9181 - val_loss: 0.3546 - val_accuracy: 0.9192\n",
            "Epoch 99/200\n",
            "2164/2164 [==============================] - 40s 18ms/step - loss: 0.2850 - accuracy: 0.9195 - val_loss: 0.3490 - val_accuracy: 0.9199\n",
            "Epoch 100/200\n",
            "2164/2164 [==============================] - 40s 19ms/step - loss: 0.2863 - accuracy: 0.9178 - val_loss: 0.3547 - val_accuracy: 0.9206\n",
            "Epoch 101/200\n",
            "2164/2164 [==============================] - 40s 19ms/step - loss: 0.2872 - accuracy: 0.9178 - val_loss: 0.3519 - val_accuracy: 0.9192\n",
            "Epoch 102/200\n",
            "2164/2164 [==============================] - 40s 19ms/step - loss: 0.2800 - accuracy: 0.9193 - val_loss: 0.3467 - val_accuracy: 0.9191\n",
            "Epoch 103/200\n",
            "2164/2164 [==============================] - 40s 18ms/step - loss: 0.2804 - accuracy: 0.9200 - val_loss: 0.3477 - val_accuracy: 0.9200\n",
            "Epoch 104/200\n",
            "2164/2164 [==============================] - 40s 19ms/step - loss: 0.2759 - accuracy: 0.9207 - val_loss: 0.3561 - val_accuracy: 0.9206\n",
            "Epoch 105/200\n",
            "2164/2164 [==============================] - 40s 18ms/step - loss: 0.2775 - accuracy: 0.9210 - val_loss: 0.3675 - val_accuracy: 0.9197\n",
            "Epoch 106/200\n",
            "2164/2164 [==============================] - 40s 18ms/step - loss: 0.2773 - accuracy: 0.9220 - val_loss: 0.3606 - val_accuracy: 0.9173\n",
            "Epoch 107/200\n",
            "2164/2164 [==============================] - 40s 18ms/step - loss: 0.2725 - accuracy: 0.9217 - val_loss: 0.3692 - val_accuracy: 0.9185\n",
            "Epoch 108/200\n",
            "2164/2164 [==============================] - 40s 18ms/step - loss: 0.2750 - accuracy: 0.9216 - val_loss: 0.3603 - val_accuracy: 0.9194\n",
            "Epoch 109/200\n",
            "2164/2164 [==============================] - 40s 19ms/step - loss: 0.2757 - accuracy: 0.9210 - val_loss: 0.3590 - val_accuracy: 0.9196\n",
            "Epoch 110/200\n",
            "2164/2164 [==============================] - 40s 19ms/step - loss: 0.2760 - accuracy: 0.9212 - val_loss: 0.3663 - val_accuracy: 0.9192\n",
            "Epoch 111/200\n",
            "2164/2164 [==============================] - 40s 18ms/step - loss: 0.2716 - accuracy: 0.9224 - val_loss: 0.3606 - val_accuracy: 0.9198\n",
            "Epoch 112/200\n",
            "2164/2164 [==============================] - 40s 18ms/step - loss: 0.2749 - accuracy: 0.9207 - val_loss: 0.3589 - val_accuracy: 0.9196\n",
            "Epoch 113/200\n",
            "2164/2164 [==============================] - 40s 19ms/step - loss: 0.2758 - accuracy: 0.9219 - val_loss: 0.3574 - val_accuracy: 0.9198\n",
            "Epoch 114/200\n",
            "2164/2164 [==============================] - 40s 18ms/step - loss: 0.2727 - accuracy: 0.9218 - val_loss: 0.3553 - val_accuracy: 0.9216\n",
            "Epoch 115/200\n",
            "2164/2164 [==============================] - 40s 18ms/step - loss: 0.2688 - accuracy: 0.9226 - val_loss: 0.3668 - val_accuracy: 0.9211\n",
            "Epoch 116/200\n",
            "2164/2164 [==============================] - 40s 19ms/step - loss: 0.2704 - accuracy: 0.9229 - val_loss: 0.3560 - val_accuracy: 0.9213\n",
            "Epoch 117/200\n",
            "2164/2164 [==============================] - 40s 18ms/step - loss: 0.2739 - accuracy: 0.9212 - val_loss: 0.3521 - val_accuracy: 0.9198\n",
            "Epoch 118/200\n",
            "2164/2164 [==============================] - 40s 19ms/step - loss: 0.2713 - accuracy: 0.9227 - val_loss: 0.3663 - val_accuracy: 0.9207\n",
            "Epoch 119/200\n",
            "2164/2164 [==============================] - 40s 18ms/step - loss: 0.2668 - accuracy: 0.9244 - val_loss: 0.3624 - val_accuracy: 0.9218\n",
            "Epoch 120/200\n",
            "2164/2164 [==============================] - 40s 19ms/step - loss: 0.2686 - accuracy: 0.9224 - val_loss: 0.3561 - val_accuracy: 0.9217\n",
            "Epoch 121/200\n",
            "2164/2164 [==============================] - 40s 19ms/step - loss: 0.2686 - accuracy: 0.9232 - val_loss: 0.3646 - val_accuracy: 0.9215\n",
            "Epoch 122/200\n",
            "2164/2164 [==============================] - 40s 19ms/step - loss: 0.2667 - accuracy: 0.9234 - val_loss: 0.3582 - val_accuracy: 0.9222\n",
            "Epoch 123/200\n",
            "2164/2164 [==============================] - 40s 19ms/step - loss: 0.2695 - accuracy: 0.9228 - val_loss: 0.3659 - val_accuracy: 0.9220\n",
            "Epoch 124/200\n",
            "2164/2164 [==============================] - 40s 19ms/step - loss: 0.2649 - accuracy: 0.9240 - val_loss: 0.3546 - val_accuracy: 0.9229\n",
            "Epoch 125/200\n",
            "2164/2164 [==============================] - 40s 19ms/step - loss: 0.2631 - accuracy: 0.9247 - val_loss: 0.3689 - val_accuracy: 0.9197\n",
            "Epoch 126/200\n",
            "2164/2164 [==============================] - 40s 18ms/step - loss: 0.2636 - accuracy: 0.9248 - val_loss: 0.3662 - val_accuracy: 0.9212\n",
            "Epoch 127/200\n",
            "2164/2164 [==============================] - 40s 19ms/step - loss: 0.2668 - accuracy: 0.9243 - val_loss: 0.3695 - val_accuracy: 0.9220\n",
            "Epoch 128/200\n",
            "2164/2164 [==============================] - 40s 19ms/step - loss: 0.2625 - accuracy: 0.9251 - val_loss: 0.3712 - val_accuracy: 0.9222\n",
            "Epoch 129/200\n",
            "2164/2164 [==============================] - 40s 18ms/step - loss: 0.2598 - accuracy: 0.9245 - val_loss: 0.3769 - val_accuracy: 0.9218\n",
            "Epoch 130/200\n",
            "2164/2164 [==============================] - 40s 19ms/step - loss: 0.2653 - accuracy: 0.9243 - val_loss: 0.3671 - val_accuracy: 0.9229\n",
            "Epoch 131/200\n",
            "2164/2164 [==============================] - 40s 19ms/step - loss: 0.2596 - accuracy: 0.9259 - val_loss: 0.3722 - val_accuracy: 0.9220\n",
            "Epoch 132/200\n",
            "2164/2164 [==============================] - 40s 19ms/step - loss: 0.2603 - accuracy: 0.9254 - val_loss: 0.3721 - val_accuracy: 0.9225\n",
            "Epoch 133/200\n",
            "2164/2164 [==============================] - 40s 19ms/step - loss: 0.2613 - accuracy: 0.9257 - val_loss: 0.3774 - val_accuracy: 0.9217\n",
            "Epoch 134/200\n",
            "2164/2164 [==============================] - 40s 19ms/step - loss: 0.2583 - accuracy: 0.9259 - val_loss: 0.3717 - val_accuracy: 0.9223\n",
            "Epoch 135/200\n",
            "2164/2164 [==============================] - 40s 19ms/step - loss: 0.2612 - accuracy: 0.9243 - val_loss: 0.3851 - val_accuracy: 0.9211\n",
            "Epoch 136/200\n",
            "2164/2164 [==============================] - 40s 19ms/step - loss: 0.2616 - accuracy: 0.9262 - val_loss: 0.3805 - val_accuracy: 0.9223\n",
            "Epoch 137/200\n",
            "2164/2164 [==============================] - 40s 19ms/step - loss: 0.2598 - accuracy: 0.9259 - val_loss: 0.3817 - val_accuracy: 0.9223\n",
            "Epoch 138/200\n",
            "2164/2164 [==============================] - 40s 19ms/step - loss: 0.2557 - accuracy: 0.9262 - val_loss: 0.3851 - val_accuracy: 0.9205\n",
            "Epoch 139/200\n",
            "2164/2164 [==============================] - 40s 19ms/step - loss: 0.2587 - accuracy: 0.9258 - val_loss: 0.3875 - val_accuracy: 0.9220\n",
            "Epoch 140/200\n",
            "2164/2164 [==============================] - 40s 19ms/step - loss: 0.2553 - accuracy: 0.9266 - val_loss: 0.3715 - val_accuracy: 0.9227\n",
            "Epoch 141/200\n",
            "2164/2164 [==============================] - 40s 19ms/step - loss: 0.2580 - accuracy: 0.9266 - val_loss: 0.3778 - val_accuracy: 0.9224\n",
            "Epoch 142/200\n",
            "2164/2164 [==============================] - 40s 19ms/step - loss: 0.2561 - accuracy: 0.9253 - val_loss: 0.3880 - val_accuracy: 0.9222\n",
            "Epoch 143/200\n",
            "2164/2164 [==============================] - 40s 18ms/step - loss: 0.2563 - accuracy: 0.9275 - val_loss: 0.3859 - val_accuracy: 0.9229\n",
            "Epoch 144/200\n",
            "2164/2164 [==============================] - 40s 19ms/step - loss: 0.2562 - accuracy: 0.9263 - val_loss: 0.3746 - val_accuracy: 0.9224\n",
            "Epoch 145/200\n",
            "2164/2164 [==============================] - 40s 19ms/step - loss: 0.2549 - accuracy: 0.9268 - val_loss: 0.3840 - val_accuracy: 0.9240\n",
            "Epoch 146/200\n",
            "2164/2164 [==============================] - 40s 18ms/step - loss: 0.2523 - accuracy: 0.9273 - val_loss: 0.3938 - val_accuracy: 0.9229\n",
            "Epoch 147/200\n",
            "2164/2164 [==============================] - 40s 19ms/step - loss: 0.2553 - accuracy: 0.9261 - val_loss: 0.3775 - val_accuracy: 0.9220\n",
            "Epoch 148/200\n",
            "2164/2164 [==============================] - 40s 18ms/step - loss: 0.2552 - accuracy: 0.9265 - val_loss: 0.3951 - val_accuracy: 0.9214\n",
            "Epoch 149/200\n",
            "2164/2164 [==============================] - 40s 19ms/step - loss: 0.2515 - accuracy: 0.9276 - val_loss: 0.3831 - val_accuracy: 0.9216\n",
            "Epoch 150/200\n",
            "2164/2164 [==============================] - 40s 18ms/step - loss: 0.2527 - accuracy: 0.9282 - val_loss: 0.3873 - val_accuracy: 0.9215\n",
            "Epoch 151/200\n",
            "2164/2164 [==============================] - 40s 19ms/step - loss: 0.2543 - accuracy: 0.9276 - val_loss: 0.3807 - val_accuracy: 0.9217\n",
            "Epoch 152/200\n",
            "2164/2164 [==============================] - 40s 18ms/step - loss: 0.2548 - accuracy: 0.9276 - val_loss: 0.4001 - val_accuracy: 0.9231\n",
            "Epoch 153/200\n",
            "2164/2164 [==============================] - 40s 19ms/step - loss: 0.2532 - accuracy: 0.9282 - val_loss: 0.3868 - val_accuracy: 0.9224\n",
            "Epoch 154/200\n",
            "2164/2164 [==============================] - 40s 19ms/step - loss: 0.2548 - accuracy: 0.9268 - val_loss: 0.3860 - val_accuracy: 0.9230\n",
            "Epoch 155/200\n",
            "2164/2164 [==============================] - 40s 19ms/step - loss: 0.2514 - accuracy: 0.9281 - val_loss: 0.3950 - val_accuracy: 0.9225\n",
            "Epoch 156/200\n",
            "2164/2164 [==============================] - 40s 18ms/step - loss: 0.2484 - accuracy: 0.9299 - val_loss: 0.3927 - val_accuracy: 0.9215\n",
            "Epoch 157/200\n",
            "2164/2164 [==============================] - 40s 19ms/step - loss: 0.2457 - accuracy: 0.9291 - val_loss: 0.3928 - val_accuracy: 0.9220\n",
            "Epoch 158/200\n",
            "2164/2164 [==============================] - 40s 19ms/step - loss: 0.2527 - accuracy: 0.9281 - val_loss: 0.3925 - val_accuracy: 0.9222\n",
            "Epoch 159/200\n",
            "2164/2164 [==============================] - 40s 19ms/step - loss: 0.2484 - accuracy: 0.9301 - val_loss: 0.3936 - val_accuracy: 0.9219\n",
            "Epoch 160/200\n",
            "2164/2164 [==============================] - 40s 18ms/step - loss: 0.2491 - accuracy: 0.9293 - val_loss: 0.3908 - val_accuracy: 0.9223\n",
            "Epoch 161/200\n",
            "2164/2164 [==============================] - 40s 18ms/step - loss: 0.2482 - accuracy: 0.9299 - val_loss: 0.4002 - val_accuracy: 0.9212\n",
            "Epoch 162/200\n",
            "2164/2164 [==============================] - 40s 18ms/step - loss: 0.2448 - accuracy: 0.9307 - val_loss: 0.4008 - val_accuracy: 0.9215\n",
            "Epoch 163/200\n",
            "2164/2164 [==============================] - 40s 18ms/step - loss: 0.2476 - accuracy: 0.9291 - val_loss: 0.3895 - val_accuracy: 0.9236\n",
            "Epoch 164/200\n",
            "2164/2164 [==============================] - 40s 18ms/step - loss: 0.2484 - accuracy: 0.9293 - val_loss: 0.3943 - val_accuracy: 0.9239\n",
            "Epoch 165/200\n",
            "2164/2164 [==============================] - 41s 19ms/step - loss: 0.2423 - accuracy: 0.9298 - val_loss: 0.4055 - val_accuracy: 0.9219\n",
            "Epoch 166/200\n",
            "2164/2164 [==============================] - 40s 18ms/step - loss: 0.2437 - accuracy: 0.9300 - val_loss: 0.4078 - val_accuracy: 0.9234\n",
            "Epoch 167/200\n",
            "2164/2164 [==============================] - 40s 19ms/step - loss: 0.2458 - accuracy: 0.9307 - val_loss: 0.4133 - val_accuracy: 0.9217\n",
            "Epoch 168/200\n",
            "2164/2164 [==============================] - 40s 19ms/step - loss: 0.2436 - accuracy: 0.9297 - val_loss: 0.4062 - val_accuracy: 0.9244\n",
            "Epoch 169/200\n",
            "2164/2164 [==============================] - 40s 19ms/step - loss: 0.2479 - accuracy: 0.9296 - val_loss: 0.3992 - val_accuracy: 0.9231\n",
            "Epoch 170/200\n",
            "2164/2164 [==============================] - 40s 19ms/step - loss: 0.2409 - accuracy: 0.9311 - val_loss: 0.4008 - val_accuracy: 0.9226\n",
            "Epoch 171/200\n",
            "2164/2164 [==============================] - 40s 19ms/step - loss: 0.2465 - accuracy: 0.9298 - val_loss: 0.4027 - val_accuracy: 0.9234\n",
            "Epoch 172/200\n",
            "2164/2164 [==============================] - 40s 19ms/step - loss: 0.2440 - accuracy: 0.9314 - val_loss: 0.4020 - val_accuracy: 0.9219\n",
            "Epoch 173/200\n",
            "2164/2164 [==============================] - 40s 19ms/step - loss: 0.2433 - accuracy: 0.9306 - val_loss: 0.3990 - val_accuracy: 0.9221\n",
            "Epoch 174/200\n",
            "2164/2164 [==============================] - 40s 18ms/step - loss: 0.2419 - accuracy: 0.9313 - val_loss: 0.4146 - val_accuracy: 0.9236\n",
            "Epoch 175/200\n",
            "2164/2164 [==============================] - 40s 19ms/step - loss: 0.2446 - accuracy: 0.9299 - val_loss: 0.3894 - val_accuracy: 0.9221\n",
            "Epoch 176/200\n",
            "2164/2164 [==============================] - 40s 18ms/step - loss: 0.2412 - accuracy: 0.9320 - val_loss: 0.4039 - val_accuracy: 0.9224\n",
            "Epoch 177/200\n",
            "2164/2164 [==============================] - 40s 18ms/step - loss: 0.2381 - accuracy: 0.9320 - val_loss: 0.4005 - val_accuracy: 0.9223\n",
            "Epoch 178/200\n",
            "2164/2164 [==============================] - 40s 19ms/step - loss: 0.2412 - accuracy: 0.9309 - val_loss: 0.3811 - val_accuracy: 0.9222\n",
            "Epoch 179/200\n",
            "2164/2164 [==============================] - 40s 18ms/step - loss: 0.2420 - accuracy: 0.9313 - val_loss: 0.3978 - val_accuracy: 0.9213\n",
            "Epoch 180/200\n",
            "2164/2164 [==============================] - 40s 19ms/step - loss: 0.2395 - accuracy: 0.9318 - val_loss: 0.3993 - val_accuracy: 0.9214\n",
            "Epoch 181/200\n",
            "2164/2164 [==============================] - 40s 18ms/step - loss: 0.2418 - accuracy: 0.9314 - val_loss: 0.4050 - val_accuracy: 0.9225\n",
            "Epoch 182/200\n",
            "2164/2164 [==============================] - 40s 18ms/step - loss: 0.2398 - accuracy: 0.9324 - val_loss: 0.4059 - val_accuracy: 0.9222\n",
            "Epoch 183/200\n",
            "2164/2164 [==============================] - 40s 19ms/step - loss: 0.2438 - accuracy: 0.9310 - val_loss: 0.4056 - val_accuracy: 0.9212\n",
            "Epoch 184/200\n",
            "2164/2164 [==============================] - 46s 21ms/step - loss: 0.2407 - accuracy: 0.9313 - val_loss: 0.4093 - val_accuracy: 0.9206\n",
            "Epoch 185/200\n",
            "2164/2164 [==============================] - 50s 23ms/step - loss: 0.2406 - accuracy: 0.9309 - val_loss: 0.4082 - val_accuracy: 0.9224\n",
            "Epoch 186/200\n",
            "2164/2164 [==============================] - 40s 19ms/step - loss: 0.2412 - accuracy: 0.9320 - val_loss: 0.3981 - val_accuracy: 0.9225\n",
            "Epoch 187/200\n",
            "2164/2164 [==============================] - 40s 18ms/step - loss: 0.2417 - accuracy: 0.9312 - val_loss: 0.4082 - val_accuracy: 0.9231\n",
            "Epoch 188/200\n",
            "2164/2164 [==============================] - 40s 18ms/step - loss: 0.2386 - accuracy: 0.9320 - val_loss: 0.4190 - val_accuracy: 0.9230\n",
            "Epoch 189/200\n",
            "2164/2164 [==============================] - 40s 18ms/step - loss: 0.2405 - accuracy: 0.9331 - val_loss: 0.4137 - val_accuracy: 0.9230\n",
            "Epoch 190/200\n",
            "2164/2164 [==============================] - 40s 19ms/step - loss: 0.2419 - accuracy: 0.9320 - val_loss: 0.4020 - val_accuracy: 0.9225\n",
            "Epoch 191/200\n",
            "2164/2164 [==============================] - 40s 18ms/step - loss: 0.2390 - accuracy: 0.9320 - val_loss: 0.4097 - val_accuracy: 0.9226\n",
            "Epoch 192/200\n",
            "2164/2164 [==============================] - 40s 18ms/step - loss: 0.2351 - accuracy: 0.9329 - val_loss: 0.3980 - val_accuracy: 0.9233\n",
            "Epoch 193/200\n",
            "2164/2164 [==============================] - 40s 18ms/step - loss: 0.2358 - accuracy: 0.9328 - val_loss: 0.3985 - val_accuracy: 0.9226\n",
            "Epoch 194/200\n",
            "2164/2164 [==============================] - 40s 18ms/step - loss: 0.2371 - accuracy: 0.9337 - val_loss: 0.4151 - val_accuracy: 0.9216\n",
            "Epoch 195/200\n",
            "2164/2164 [==============================] - 40s 19ms/step - loss: 0.2386 - accuracy: 0.9325 - val_loss: 0.4135 - val_accuracy: 0.9232\n",
            "Epoch 196/200\n",
            "2164/2164 [==============================] - 40s 18ms/step - loss: 0.2358 - accuracy: 0.9332 - val_loss: 0.4163 - val_accuracy: 0.9226\n",
            "Epoch 197/200\n",
            "2164/2164 [==============================] - 40s 19ms/step - loss: 0.2417 - accuracy: 0.9321 - val_loss: 0.4029 - val_accuracy: 0.9239\n",
            "Epoch 198/200\n",
            "2164/2164 [==============================] - 40s 19ms/step - loss: 0.2376 - accuracy: 0.9326 - val_loss: 0.4190 - val_accuracy: 0.9213\n",
            "Epoch 199/200\n",
            "2164/2164 [==============================] - 40s 19ms/step - loss: 0.2353 - accuracy: 0.9339 - val_loss: 0.4260 - val_accuracy: 0.9208\n",
            "Epoch 200/200\n",
            "2164/2164 [==============================] - 40s 19ms/step - loss: 0.2367 - accuracy: 0.9327 - val_loss: 0.4218 - val_accuracy: 0.9218\n"
          ]
        }
      ]
    },
    {
      "cell_type": "code",
      "source": [
        "classifier.evaluate(test_set)"
      ],
      "metadata": {
        "colab": {
          "base_uri": "https://localhost:8080/"
        },
        "id": "1SDtYMH-N7Cp",
        "outputId": "30112544-c5f3-4d5c-9509-8323e3293c6b"
      },
      "execution_count": 26,
      "outputs": [
        {
          "output_type": "stream",
          "name": "stdout",
          "text": [
            "620/620 [==============================] - 5s 8ms/step - loss: 0.3392 - accuracy: 0.9336\n"
          ]
        },
        {
          "output_type": "execute_result",
          "data": {
            "text/plain": [
              "[0.3391944169998169, 0.9336325526237488]"
            ]
          },
          "metadata": {},
          "execution_count": 26
        }
      ]
    },
    {
      "cell_type": "code",
      "source": [
        "!unzip drive/MyDrive/cmaterDB_dataset> /dev/null"
      ],
      "metadata": {
        "colab": {
          "base_uri": "https://localhost:8080/"
        },
        "id": "Yy489akYuW8b",
        "outputId": "97728abc-1222-4963-fdb2-70188873c338"
      },
      "execution_count": 28,
      "outputs": [
        {
          "output_type": "stream",
          "name": "stdout",
          "text": [
            "replace Dataset/main/train/172/bcc000000.bmp? [y]es, [n]o, [A]ll, [N]one, [r]ename: "
          ]
        }
      ]
    },
    {
      "cell_type": "code",
      "source": [
        "train_folder = \"Dataset/Train\" \n",
        "test_folder = \"Dataset/Test\"\n",
        "dimensions = (28, 28)"
      ],
      "metadata": {
        "id": "mTgey24UuW1X"
      },
      "execution_count": 29,
      "outputs": []
    },
    {
      "cell_type": "code",
      "source": [
        "train_folder = \"Dataset/main/train\" \n",
        "test_folder = \"Dataset/main/val\"\n",
        "dimensions = (28, 28)"
      ],
      "metadata": {
        "id": "zbAP1aH2vKKO"
      },
      "execution_count": 31,
      "outputs": []
    },
    {
      "cell_type": "code",
      "source": [
        "def process_images(folder):\n",
        "\n",
        "    classes = [os.path.join(folder, d) for d in sorted(os.listdir(folder))]  # get list of all sub-folders in folder\n",
        "    img_cnt = 0\n",
        "    i=0\n",
        "    for class_x in classes:\n",
        "        i=i+1\n",
        "        if os.path.isdir(class_x):\n",
        "\n",
        "            # get paths to all the images in this folder\n",
        "            images = [os.path.join(class_x, i) for i in sorted(os.listdir(class_x)) if i != '.DS_Store']\n",
        "            print(len(images))\n",
        "            if folder == \"Dataset/Test\" and i==1:\n",
        "                images = images[:-1]\n",
        "\n",
        "            for image in images:\n",
        "\n",
        "                img_cnt = img_cnt + 1\n",
        "\n",
        "                if(img_cnt % 1000 == 0):                # show progress\n",
        "                    print(\"Processed %s images\" % str(img_cnt))\n",
        "\n",
        "                im = Image.open(image)\n",
        "                print(image)\n",
        "                im = im.resize(dimensions)   # resize image according to dimensions set\n",
        "\n",
        "                im = im.convert('L')\n",
        "\n",
        "                image_array = np.array(im)\n",
        "                otsu_threshold, image_result = cv2.threshold(image_array, 0, 255, cv2.THRESH_BINARY_INV+cv2.THRESH_OTSU)\n",
        "                im = Image.fromarray(image_result)\n",
        "\n",
        "                im.save(image)\n",
        "    print(\"Finished processing images, images found = \")\n",
        "    print(img_cnt)\n",
        "process_images(train_folder)\n",
        "process_images(test_folder)"
      ],
      "metadata": {
        "id": "M8tFNF3XuWsK"
      },
      "execution_count": null,
      "outputs": []
    },
    {
      "cell_type": "code",
      "source": [
        "Image.LOAD_TRUNCATED_IMAGES = True\n",
        "\n",
        "\n",
        "train_datagen_cm = ImageDataGenerator(shear_range = .2, rotation_range = 25)\n",
        "val_datagen_cm = ImageDataGenerator()\n",
        "test_datagen_cm = ImageDataGenerator()\n",
        "\n",
        "train_set_cm = train_datagen_cm.flow_from_directory(train_folder, target_size = (28, 28), \n",
        "                                                 batch_size = 32, class_mode = 'categorical',color_mode=\"grayscale\")\n",
        "val_set_cm = val_datagen_cm.flow_from_directory(val_folder, target_size = (28, 28), \n",
        "                                                 batch_size = 32, class_mode = 'categorical',color_mode=\"grayscale\")\n",
        "test_set_cm = test_datagen_cm.flow_from_directory(test_folder, target_size = (28, 28), \n",
        "                                                 batch_size = 32, class_mode = 'categorical',color_mode=\"grayscale\")"
      ],
      "metadata": {
        "colab": {
          "base_uri": "https://localhost:8080/"
        },
        "id": "Sk9awDUZu5_6",
        "outputId": "bbc214d3-c690-4ea1-eee4-5c960890ac9e"
      },
      "execution_count": 33,
      "outputs": [
        {
          "output_type": "stream",
          "name": "stdout",
          "text": [
            "Found 10800 images belonging to 50 classes.\n",
            "Found 9877 images belonging to 50 classes.\n",
            "Found 1200 images belonging to 50 classes.\n"
          ]
        }
      ]
    },
    {
      "cell_type": "code",
      "source": [
        "from matplotlib import pyplot as plt\n",
        "plt.plot(history.history['accuracy'])\n",
        "plt.plot(history.history['val_accuracy'])\n",
        "plt.title('Training Accuracy vs Validation Accuracy')\n",
        "plt.ylabel('accuracy')\n",
        "plt.xlabel('epoch')\n",
        "plt.legend(['training', 'validation'], loc='lower right')\n",
        "plt.show()"
      ],
      "metadata": {
        "colab": {
          "base_uri": "https://localhost:8080/",
          "height": 472
        },
        "id": "69YtG611u57X",
        "outputId": "ec97c27a-ad96-42af-ce35-9b5504b57638"
      },
      "execution_count": 39,
      "outputs": [
        {
          "output_type": "display_data",
          "data": {
            "text/plain": [
              "<Figure size 640x480 with 1 Axes>"
            ],
            "image/png": "[encoded data removed]"
          },
          "metadata": {}
        }
      ]
    },
    {
      "cell_type": "code",
      "source": [
        "plt.plot(history.history['loss'])\n",
        "plt.plot(history.history['val_loss'])\n",
        "plt.title('Training Loss vs Validation Loss')\n",
        "plt.ylabel('loss')\n",
        "plt.xlabel('epochs')\n",
        "plt.legend(['training', 'validation'], loc='upper right')\n",
        "plt.show()"
      ],
      "metadata": {
        "colab": {
          "base_uri": "https://localhost:8080/",
          "height": 472
        },
        "id": "YzLDjc6Vu54E",
        "outputId": "7832d52b-6a4d-49b5-8eb5-d27582a95eb2"
      },
      "execution_count": 40,
      "outputs": [
        {
          "output_type": "display_data",
          "data": {
            "text/plain": [
              "<Figure size 640x480 with 1 Axes>"
            ],
            "image/png": "[encoded data removed]"
          },
          "metadata": {}
        }
      ]
    },
    {
      "cell_type": "code",
      "source": [
        "from fastai.vision.all import *\n",
        "from fastai.text.all import *\n",
        "from fastai.collab import *\n",
        "from fastai.tabular.all import *"
      ],
      "metadata": {
        "id": "KcESV5huu5wc"
      },
      "execution_count": 41,
      "outputs": []
    },
    {
      "cell_type": "code",
      "source": [
        "print(classifier)"
      ],
      "metadata": {
        "colab": {
          "base_uri": "https://localhost:8080/"
        },
        "id": "HvbDEdW4w0oU",
        "outputId": "d1522674-f4f8-42fb-e0f1-c65f2d4caf0c"
      },
      "execution_count": 44,
      "outputs": [
        {
          "output_type": "stream",
          "name": "stdout",
          "text": [
            "<keras.engine.sequential.Sequential object at 0x7f4b7ac80b20>\n"
          ]
        }
      ]
    },
    {
      "cell_type": "code",
      "source": [
        "classifier.save('banglalekhaCLassifier')"
      ],
      "metadata": {
        "colab": {
          "base_uri": "https://localhost:8080/"
        },
        "id": "Wcze38quw0gs",
        "outputId": "4f99003b-2eef-48b5-ea8b-4af603a56ceb"
      },
      "execution_count": 46,
      "outputs": [
        {
          "output_type": "stream",
          "name": "stderr",
          "text": [
            "WARNING:absl:Found untraced functions such as _jit_compiled_convolution_op, _jit_compiled_convolution_op, _jit_compiled_convolution_op, lstm_cell_layer_call_fn, lstm_cell_layer_call_and_return_conditional_losses while saving (showing 5 of 5). These functions will not be directly callable after loading.\n"
          ]
        }
      ]
    },
    {
      "cell_type": "code",
      "source": [],
      "metadata": {
        "id": "UnsHCN98w0RA"
      },
      "execution_count": null,
      "outputs": []
    },
    {
      "cell_type": "code",
      "source": [],
      "metadata": {
        "id": "X4ChifvRx5TR"
      },
      "execution_count": null,
      "outputs": []
    },
    {
      "cell_type": "code",
      "source": [],
      "metadata": {
        "id": "Zv0CMloCx5Nk"
      },
      "execution_count": null,
      "outputs": []
    }
  ]
}